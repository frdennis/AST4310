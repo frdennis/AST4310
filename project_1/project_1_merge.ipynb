{
 "cells": [
  {
   "cell_type": "markdown",
   "id": "cb81b389",
   "metadata": {},
   "source": [
    "## AST4310, Autumn 2021, Project 1\n",
    "\n",
    "Authored by (candidate numbers): ***XXX*** and ***YYY***.\n",
    "\n",
    "\n",
    "\n",
    "#### Header and imports\n",
    "\n",
    "*Please include in the code cell below all the library imports and other header parts you need (e.g. defining constants, etc.). It becomes cleaner and easier to read if the imports appear at the top and not scattered through the code.*"
   ]
  },
  {
   "cell_type": "code",
   "execution_count": 1,
   "id": "6439cfab",
   "metadata": {},
   "outputs": [
    {
     "data": {
      "application/javascript": [
       "MathJax.Hub.Config({\n",
       "    TeX: { equationNumbers: { autoNumber: \"AMS\" } }\n",
       "});"
      ],
      "text/plain": [
       "<IPython.core.display.Javascript object>"
      ]
     },
     "metadata": {},
     "output_type": "display_data"
    }
   ],
   "source": [
    "%%javascript  # Allow equation numbers\n",
    "MathJax.Hub.Config({\n",
    "    TeX: { equationNumbers: { autoNumber: \"AMS\" } }\n",
    "});"
   ]
  },
  {
   "cell_type": "code",
   "execution_count": 11,
   "id": "9f0283a0",
   "metadata": {},
   "outputs": [],
   "source": [
    "# Imports \n",
    "import numpy\n",
    "import matplotlib.pyplot as plt\n",
    "from matplotlib import cm\n",
    "\n",
    "from astropy import units\n",
    "from astropy import constants\n",
    "from astropy.visualization import quantity_support\n",
    "quantity_support()\n",
    "\n",
    "#from matplotlib_inline.backend_inline import set_matplotlib_formats\n",
    "\n",
    "#set_matplotlib_formats('svg')\n",
    "plt.rc('legend', frameon=False)\n",
    "plt.rc('figure', figsize=[7, 7/1.3])\n",
    "plt.rc('font', size=12)"
   ]
  },
  {
   "cell_type": "raw",
   "id": "2ad5ce39",
   "metadata": {},
   "source": [
    "aa = Atom(\"Ca_atom.txt\")\n",
    "temp = numpy.linspace(100, 3000, 200) * units.K\n",
    "ur = aa.compute_partition_function(temp)\n",
    "\n",
    "ur.shape"
   ]
  },
  {
   "cell_type": "raw",
   "id": "9224db29",
   "metadata": {},
   "source": [
    "e_press = 100 * units.kPa\n",
    "ion = aa.compute_ionisation(temp, e_press)\n",
    "ion"
   ]
  },
  {
   "cell_type": "markdown",
   "id": "3157721e",
   "metadata": {},
   "source": [
    "### Exercise 1: The Boltzmann and Saha laws\n",
    "\n",
    "<div style=\"background-color:#e6ffe6; padding:10px; border-style:\n",
    "solid;; border-color:#00e600; border-width:1px\">\n",
    "<i> <ul>\n",
    "<li>Identify the four hydrogen lines in the image with stellar spectrograms (first figure in section 1). Looking at the hydrogen energy level diagram in section 1.2, to which series do they correspond? What are their lower and upper levels? Compute their central wavelengths precisely using equation (5).</li> </ul></i>\n",
    "</div>"
   ]
  },
  {
   "cell_type": "markdown",
   "id": "67268910",
   "metadata": {},
   "source": []
  },
  {
   "cell_type": "code",
   "execution_count": 47,
   "id": "c012c354",
   "metadata": {},
   "outputs": [
    {
     "name": "stdout",
     "output_type": "stream",
     "text": [
      "Lyman series:  [<Quantity 121.56841096 nm>, <Quantity 102.57334048 nm>, <Quantity 97.25472664 nm>, <Quantity 94.97532294 nm>, <Quantity 91.17630628 nm>]\n",
      "Balmer series:  [<Quantity 656.46916223 nm>, <Quantity 486.27359065 nm>, <Quantity 434.17293551 nm>, <Quantity 364.70520186 nm>]\n",
      "Paschen series:  [<Quantity 1875.62821823 nm>, <Quantity 1282.16815661 nm>, <Quantity 820.58701841 nm>]\n",
      "Brackett series:  [<Quantity 4052.28747576 nm>, <Quantity 1458.82091383 nm>]\n",
      "Pfund series:  [<Quantity 2279.40541254 nm>]\n",
      "\n",
      "The absorption lines in the figure in section 1 corresponds to the Balmer series.\n",
      "\n",
      "[  0.          10.1985      12.08711111  12.748125    13.05408\n",
      " -13.598     ] eV\n"
     ]
    },
    {
     "name": "stderr",
     "output_type": "stream",
     "text": [
      "/Users/isakaaby/anaconda3/lib/python3.6/site-packages/astropy/units/quantity.py:477: RuntimeWarning: divide by zero encountered in true_divide\n",
      "  result = super().__array_ufunc__(function, method, *arrays, **kwargs)\n"
     ]
    },
    {
     "data": {
      "text/latex": [
       "$[\\infty,~121.57101,~102.57554,~97.256811,~94.977355,~-91.17826] \\; \\mathrm{nm}$"
      ],
      "text/plain": [
       "<Quantity [         inf, 121.57101381, 102.5755429 ,  97.25681105,\n",
       "            94.97735454, -91.17826036] nm>"
      ]
     },
     "execution_count": 47,
     "metadata": {},
     "output_type": "execute_result"
    }
   ],
   "source": [
    "levels = (numpy.loadtxt('H_atom.txt', unpack=True)[0] / units.cm).to('aJ',equivalencies=units.spectral())\n",
    "# chi = (chi / units.cm).to('aJ', equivalencies=units.spectral())\n",
    "l = []\n",
    "\n",
    "for i in range(len(levels)-1): # complete the difference in energy levels\n",
    "    l.append([])\n",
    "    for j in range(i+1,len(levels)):\n",
    "        dE = (levels[j]-levels[i])\n",
    "        li = ((constants.c * constants.h) / dE).to('nm')\n",
    "        l[i].append(li)\n",
    "\n",
    "print('Lyman series: ', l[0])\n",
    "print('Balmer series: ', l[1])\n",
    "print('Paschen series: ', l[2])\n",
    "print('Brackett series: ', l[3])\n",
    "print('Pfund series: ', l[4])\n",
    "\n",
    "print('\\nThe absorption lines in the figure in section 1 corresponds to the Balmer series.\\n')\n",
    "\n",
    "\n",
    "\"\"\"Compute their central wavelengths precisely using equation (5).\"\"\"\n",
    "# g = 2*s**2\n",
    "# chi = 13.598*(1-1/s**2) [eV]\n",
    "\n",
    "g = (numpy.loadtxt('H_atom.txt', unpack=True)[1])\n",
    "s = numpy.sqrt(g/2)\n",
    "chi = 13.598*(1-1/s**2)*units.eV\n",
    "\n",
    "print(chi)\n",
    "((constants.c * constants.h) / chi).to(\"nm\")"
   ]
  },
  {
   "cell_type": "markdown",
   "id": "09026238",
   "metadata": {},
   "source": [
    "<div style=\"background-color:#e6ffe6; padding:10px; border-style:\n",
    "solid;; border-color:#00e600; border-width:1px\">\n",
    "<i> <ul>\n",
    "<li>Payne's basic assumption was that the strength of the absorption lines observed in stellar spectra scales linearly with the population density of the lower level of the corresponding transition. Why would she think so? (It is not correct, but generally stellar absorption lines do get stronger at larger lower-level population. In this exercise we follow her example and assume that the scaling is linear.)</li> </ul></i>\n",
    "</div>"
   ]
  },
  {
   "cell_type": "markdown",
   "id": "0f201c19",
   "metadata": {},
   "source": [
    "The more atoms we have of the lower level in a given transition, the more likely it is that we get absorption from that level. This is because the lower level contains a lot more electrons that can be exited, and this creates more absorption lines and thus the strength ratio of absorption increases.\n",
    "\n",
    "Levels further out from the lower levels contains a lot fewer electrons, and so the amount of absorption from these line-transitions is much smaller."
   ]
  },
  {
   "cell_type": "markdown",
   "id": "c3add96d",
   "metadata": {},
   "source": [
    "<div style=\"background-color:#e6ffe6; padding:10px; border-style:\n",
    "solid;; border-color:#00e600; border-width:1px\">\n",
    "<i> <ul>\n",
    "<li>Use this expectation to give initial rough estimates of the strength ratios of the α\n",
    "lines in the the H I Lyman, Balmer, Paschen and Brackett series. Use T=5000 K.</li> </ul></i>\n",
    "</div>"
   ]
  },
  {
   "cell_type": "markdown",
   "id": "5651c0d7",
   "metadata": {},
   "source": [
    "For this exercise we use the partitioning (strength ratios) of a specific atom or ion stage $r$ over its discrete energy levels $s$, given by\n",
    "\n",
    "$$\n",
    "\\frac{n_{r,s}}{N_r} = \\frac{g_{r,s}}{U_r}e^{-\\chi_{r,s}/kT}\n",
    "\\tag{1}\\label{boltzmann}\n",
    "$$\n",
    "\n",
    "where $T$ is the temperature, $k$ the boltzmann constant, $n_{r,s}$ the number of particles per $m^3$ in level $s$ and ionisation stage $r$. The $g_{r,s}$ is the statistical weight of the given level $s$, $N_{r}$ is the total density of particles in all levels for a given ionisation stage $r$, given by the sum\n",
    "\n",
    "$$\n",
    "N_r \\equiv \\sum_{s} n_{r,s} \\tag{2}\\label{N}\n",
    "$$\n",
    "\n",
    "The exitation energy $\\chi_{r,s}$ in level $s$ is measured from the ground state by the following equation\n",
    "\n",
    "$$\n",
    "\\chi_{r,s} = 13.598(1-1/s^2)\\text{eV} \\tag{3}\\label{chi}\n",
    "$$\n",
    "\n",
    "Then we calculate the partition function $U_r$ for $T = 5000$ K and for the lowest ionisation stage, by summing over all levels in the following way\n",
    "\n",
    "$$\n",
    "U_r \\equiv \\sum_{s} g_{r,s}e^{-\\chi_{r,s}/kT} \\tag{4}\\label{U}\n",
    "$$\n",
    "\n",
    "Since we are only interested in the $\\alpha$ lines from Lyman, Balmer, Paschen and Brakett, we only look at the first ionisation stage ($r = 1$). This means that we only calculate Lyman from $s = 1 \\rightarrow s = 2$, Balmer from $s = 2 \\rightarrow s = 3$, Paschen from $s = 3 \\rightarrow s = 4$ and Brackett from $s = 4 \\rightarrow s = 5$."
   ]
  },
  {
   "cell_type": "code",
   "execution_count": 334,
   "id": "7001bc74",
   "metadata": {},
   "outputs": [
    {
     "name": "stdout",
     "output_type": "stream",
     "text": [
      "Lyman strength ratio:  0.9999999995778817\n",
      "Balmer strength ratio:  2.1009921343952661e-10\n",
      "Paschen strength ratio:  5.901613025076004e-12\n",
      "Brackett strength ratio:  2.262431957460449e-12\n"
     ]
    }
   ],
   "source": [
    "def U(T):\n",
    "    \"\"\"\n",
    "    calculates the partition function for a given temperature T for s in [1,30]\n",
    "    \"\"\"\n",
    "    \n",
    "    s = numpy.linspace(1,30,30)\n",
    "    g = 2*s**2\n",
    "    chi = 13.598*(1-1/(s**2))*units.eV\n",
    "    return numpy.nansum(g*numpy.exp(-chi/(constants.k_B*T)))\n",
    "\n",
    "\n",
    "T = 5000*units.K  # temperature K\n",
    "\n",
    "def Boltzmann_law(s,T):\n",
    "    \"\"\"\n",
    "    Computes the boltzmann relation for temperature T and a given energy level s\n",
    "    \"\"\"\n",
    "    g = 2*s**2\n",
    "    chi = 13.598*(1-1/(s**2))*units.eV\n",
    "    return g*numpy.exp(-chi/(constants.k_B*T))\n",
    "\n",
    "s_ly = 1; s_bal = 2; s_pash = 3; s_brack = 4   #energy level for Lyman, Balmer, Paschen, Brackett\n",
    "\n",
    "print(\"Lyman strength ratio: \", Boltzmann_law(s_ly,T)/U(T))\n",
    "print(\"Balmer strength ratio: \",Boltzmann_law(s_bal,T)/U(T))\n",
    "print(\"Paschen strength ratio: \",Boltzmann_law(s_pash,T)/U(T))\n",
    "print(\"Brackett strength ratio: \",Boltzmann_law(s_brack,T)/U(T))\n"
   ]
  },
  {
   "cell_type": "markdown",
   "id": "9f9381f1",
   "metadata": {},
   "source": [
    "We see from the strength ratios of the different $\\alpha$ lines above, that the Lyman line dominates over the other series. This makes sense since we know that hydrogen only contains 1 electron, and so we expect the strength of absorption from the lower level transition ($s = 1$) to dominate over the other transitions. This is why the strength ratios from the other 3 lines are so small, and for Lyman it is almost equal to 1."
   ]
  },
  {
   "cell_type": "markdown",
   "id": "4f875737",
   "metadata": {},
   "source": [
    "<div style=\"background-color:#e6ffe6; padding:10px; border-style:\n",
    "solid;; border-color:#00e600; border-width:1px\">\n",
    "<i> <ul>\n",
    "<li>Explain from equations (1) and (3) why the Saha and Boltzmann distributions behave differently for increasing temperature.</li> </ul></i>\n",
    "</div>"
   ]
  },
  {
   "cell_type": "markdown",
   "id": "ea5b32ef",
   "metadata": {},
   "source": [
    "The Boltzmann law is given by\n",
    "\n",
    "$$\n",
    "\\frac{n_{r,s}}{N_r} = \\frac{g_{r,s}}{U_r}e^{-\\chi_{r,s}/kT}\n",
    "\\tag{5}\\label{boltzmann2}\n",
    "$$\n",
    "\n",
    "and the Saha law \n",
    "\n",
    "$$\n",
    "\\frac{N_{r+1}}{N_{r}} = \\frac{1}{N_e}\\frac{2U_{r+1}}{U_{r}}\\left(\\frac{2\\pi m_e k T}{h^2}\\right)^{3/2}e^{-\\chi_{r}/kT}\n",
    "\\tag{6}\\label{saha}\n",
    "$$\n",
    "\n",
    "where the ratio $N_{r+1}/N_{r}$ is the partitioning over different ionisation stages, $N_{e}$ is the electron density and $m_e$ is the electron mass.\n",
    "\n",
    "As one can see from \\ref{boltzmann2}, the exponential term will approach $1$ as $T \\rightarrow \\infty$. The partition function $U_{r}$ from equation (4) will only be the sum of the statistical weights $g_{r,s}$ for all levels $s$. The Boltzmann equation.\n",
    "\n"
   ]
  },
  {
   "cell_type": "markdown",
   "id": "f0273768",
   "metadata": {},
   "source": [
    "<div style=\"background-color:#e6ffe6; padding:10px; border-style:\n",
    "solid;; border-color:#00e600; border-width:1px\">\n",
    "<i> <ul>\n",
    "<li>Speculate how ionisation can fully deplete a stage (e.g. all atoms can transition from neutral to ionised) while excitation puts only a few atoms in levels just below the ionisation level. Hint: what is the limit of the Saha and Boltzman ratios for infinite temperature?</li> </ul></i>\n",
    "</div>"
   ]
  },
  {
   "cell_type": "markdown",
   "id": "28a2eceb",
   "metadata": {},
   "source": [
    "Answer here"
   ]
  },
  {
   "cell_type": "markdown",
   "id": "c83b1488",
   "metadata": {},
   "source": [
    "### Exercise 2: Saha-Boltzmann populations of a simplified Ca atom\n",
    "\n",
    "<div style=\"background-color:#e6ffe6; padding:10px; border-style:\n",
    "solid;; border-color:#00e600; border-width:1px\">\n",
    "\n",
    "* Using the simplified Ca atom (`Ca_atom.txt`), plot and discuss the temperature variation of the partition functions $U_r$ for the first four ionisation stages in the file. Look in the temperature range between 100 - 30,000 K. What can you say about the temperature dependence of $U_r$?\n",
    "</div>"
   ]
  },
  {
   "cell_type": "code",
   "execution_count": 96,
   "id": "161296d6",
   "metadata": {},
   "outputs": [],
   "source": [
    "class Atom:\n",
    "    \"\"\"\n",
    "    Reads atomic data, calculates level populations according to Boltzmann's law,\n",
    "    and ionisation fractions according to Saha's law.\n",
    "    \"\"\"\n",
    "    \n",
    "    def __init__(self, atomfile=None):\n",
    "        \"\"\"\n",
    "        Parameters\n",
    "        ----------\n",
    "        atomfile : string, optional\n",
    "            Name of file with atomic data. If not present, atomic data needs\n",
    "            to be loaded with the .read_atom method.\n",
    "        \"\"\"\n",
    "        self.loaded = False\n",
    "        if atomfile:\n",
    "            self.read_atom(atomfile)\n",
    "        \n",
    "    def read_atom(self, filename):\n",
    "        \"\"\"\n",
    "        Reads atom structure from text file.\n",
    "        \n",
    "        Parameters\n",
    "        ----------\n",
    "        filename: string\n",
    "            Name of file with atomic data.\n",
    "        \"\"\"\n",
    "        tmp = numpy.loadtxt(filename, unpack=True)\n",
    "        self.n_stages = int(tmp[2].max()) + 1\n",
    "        # Get maximum number of levels in any stage\n",
    "        self.max_levels = 0\n",
    "        for i in range(self.n_stages):\n",
    "            self.max_levels = max(self.max_levels, (tmp[2] == i).sum())\n",
    "        # Populate level energies and statistical weights\n",
    "        # Use a square array filled with NaNs for non-existing levels\n",
    "        chi = numpy.empty((self.n_stages, self.max_levels))\n",
    "        chi.fill(numpy.nan)\n",
    "        self.g = numpy.copy(chi)\n",
    "        for i in range(self.n_stages):\n",
    "            nlevels = (tmp[2] == i).sum()\n",
    "            chi[i, :nlevels] = tmp[0][tmp[2] == i]\n",
    "            self.g[i, :nlevels] = tmp[1][tmp[2] == i]\n",
    "        # Put units, convert from cm-1 to Joule\n",
    "        chi = (chi / units.cm).to('aJ', equivalencies=units.spectral())\n",
    "        # Save ionisation energies, saved as energy of first level in each stage\n",
    "        self.chi_ion = chi[:, 0].copy()\n",
    "        # Save level energies relative to ground level in each stage\n",
    "        self.chi = chi - self.chi_ion[:, numpy.newaxis]\n",
    "        self.loaded = True\n",
    "        \n",
    "    def compute_partition_function(self, temperature):\n",
    "        \"\"\"\n",
    "        Computes partition functions using the atomic level energies and\n",
    "        statistical weights.\n",
    "        \n",
    "        Parameters\n",
    "        ----------\n",
    "        temperature: astropy.units.quantity (scalar or array)\n",
    "            Gas temperature in units of K or equivalent.\n",
    "        \"\"\"\n",
    "        if not self.loaded:\n",
    "            raise ValueError(\"Missing atom structure, please load atom with read_atom()\")\n",
    "        temp = temperature[numpy.newaxis, numpy.newaxis]  # to allow broadcast\n",
    "        return numpy.nansum(self.g[..., numpy.newaxis] * \n",
    "                            numpy.exp(-self.chi[..., numpy.newaxis] / \n",
    "                                      constants.k_B / temp), axis=1)\n",
    "    \n",
    "    def compute_excitation(self, temperature):\n",
    "        \"\"\"\n",
    "        Computes the level populations relative to the ground state,\n",
    "        according to the Boltzmann law.\n",
    "        \n",
    "        Parameters\n",
    "        ----------\n",
    "        temperature: astropy.units.quantity (scalar or array)\n",
    "            Gas temperature in units of K or equivalent.\n",
    "        \"\"\"\n",
    "        pfunc = self.compute_partition_function(temperature)\n",
    "        # Reshape arrays to allow broadcast\n",
    "        temp = temperature[numpy.newaxis, numpy.newaxis]\n",
    "        g_ratio = self.g[..., numpy.newaxis] / pfunc[:, numpy.newaxis]  # relative to total number of atoms in this stage\n",
    "        chi = self.chi[..., numpy.newaxis]\n",
    "        return g_ratio * numpy.exp(-chi / (constants.k_B * temp))\n",
    "       \n",
    "    def compute_ionisation(self, temperature, electron_pressure):\n",
    "        \"\"\"\n",
    "        Computes ionisation fractions according to the Saha law.\n",
    "        \n",
    "        Parameters\n",
    "        ----------\n",
    "        temperature: astropy.units.quantity (scalar or array)\n",
    "            Gas temperature in units of K or equivalent.\n",
    "        electron_pressure: astropy.units.quantity (scalar)\n",
    "            Electron pressure in units of Pa or equivalent.\n",
    "        \"\"\"\n",
    "        partition_function = self.compute_partition_function(temperature)\n",
    "        electron_density = electron_pressure / (constants.k_B * temperature)\n",
    "        saha_const = ((2 * numpy.pi * constants.m_e * constants.k_B * temperature) / \n",
    "                      (constants.h ** 2)) ** (3 / 2)\n",
    "        nstage = numpy.zeros_like(partition_function) / units.m ** 3\n",
    "        nstage[0] = 1. / units.m ** 3\n",
    "        # Below we use the values for ionisation energies that are saved\n",
    "        # in the first index of each excited state: self.chi[r + 1, 0]\n",
    "        for r in range(self.n_stages - 1):\n",
    "            nstage[r + 1] = (nstage[r] / electron_density * 2 * saha_const *\n",
    "                             partition_function[r + 1] / partition_function[r] * \n",
    "                             numpy.exp(-self.chi_ion[r + 1, numpy.newaxis] / \n",
    "                                       (constants.k_B * temperature[numpy.newaxis])))\n",
    "        # nansum is needed because the last stage might have only one level\n",
    "        # (only ionisation potential)\n",
    "        return nstage / numpy.nansum(nstage, axis=0)\n",
    "    \n",
    "    def compute_ionisation_delete(self, temperature, electron_pressure):\n",
    "        \"\"\"\n",
    "        Computes ionisation fractions according to the Saha law.\n",
    "        \n",
    "        Parameters\n",
    "        ----------\n",
    "        temperature: astropy.units.quantity (scalar or array)\n",
    "            Gas temperature in units of K or equivalent.\n",
    "        electron_pressure: astropy.units.quantity (scalar)\n",
    "            Electron pressure in units of Pa or equivalent.\n",
    "        \"\"\"\n",
    "        partition_function = self.compute_partition_function(temperature)\n",
    "        electron_density = electron_pressure / (constants.k_B * temperature)\n",
    "        saha_const = ((2 * numpy.pi * constants.m_e * constants.k_B * temperature) / \n",
    "                      (constants.h ** 2)) ** (3 / 2)\n",
    "        nstage = numpy.zeros_like(partition_function) / units.m ** 3\n",
    "        nstage[0] = 1. / units.m ** 3\n",
    "        # Below we use the values for ionisation energies that are saved\n",
    "        # in the first index of each excited state: self.chi[r + 1, 0]\n",
    "        for r in range(self.n_stages - 1):\n",
    "            nstage[r + 1] = (nstage[r] / electron_density * 2 * saha_const *\n",
    "                             partition_function[r + 1] / partition_function[r] * \n",
    "                             numpy.exp(-self.chi_ion[r + 1, numpy.newaxis] / \n",
    "                                       (constants.k_B * temperature[numpy.newaxis])))\n",
    "        # nansum is needed because the last stage might have only one level\n",
    "        # (only ionisation potential)\n",
    "        return nstage #/ numpy.nansum(nstage, axis=0)\n",
    "\n",
    "    def compute_populations(self, temperature, electron_pressure):\n",
    "        \"\"\"\n",
    "        Computes relative level populations for all levels and all\n",
    "        ionisation stages using the Bolzmann and Saha laws.\n",
    "        \n",
    "        Parameters\n",
    "        ----------\n",
    "        temperature: astropy.units.quantity (scalar or array)\n",
    "            Gas temperature in units of K or equivalent.\n",
    "        electron_pressure: astropy.units.quantity (scalar)\n",
    "            Electron pressure in units of Pa or equivalent.\n",
    "        \"\"\"\n",
    "        return (self.compute_excitation(temperature) * \n",
    "                self.compute_ionisation(temperature, electron_pressure)[:, numpy.newaxis])\n",
    "\n",
    "    def plot_payne(self, temperature, electron_pressure):\n",
    "        \"\"\"\n",
    "        Plots the Payne curves for the current atom.\n",
    "        \n",
    "        Parameters\n",
    "        ----------\n",
    "        temperature: astropy.units.quantity (array)\n",
    "            Gas temperature in units of K or equivalent.\n",
    "        electron_pressure: astropy.units.quantity (scalar)\n",
    "            Electron pressure in units of Pa or equivalent.\n",
    "        \"\"\"\n",
    "        pops = self.compute_populations(temperature, electron_pressure)\n",
    "        fig, ax = plt.subplots()\n",
    "        ax.plot(numpy.tile(temp, (self.n_stages, 1)).T, pops[:, 0].T, 'b-')\n",
    "        n_levels = self.chi.shape[1]\n",
    "        if n_levels > 1:\n",
    "            ax.plot(numpy.tile(temp, (self.n_stages, 1)).T, pops[:, 1].T, 'r--')\n",
    "        if n_levels > 2:\n",
    "            ax.plot(numpy.tile(temp, (self.n_stages, 1)).T, pops[:, 2].T, 'k:')\n",
    "        ax.set_yscale('log')\n",
    "        ax.set_ylim(1e-6, 1.1)\n",
    "        ax.set_xlabel('Temperature (K)')\n",
    "        ax.set_ylabel('Populations')"
   ]
  },
  {
   "cell_type": "markdown",
   "id": "f1b8c1f5",
   "metadata": {},
   "source": [
    "Answer here"
   ]
  },
  {
   "cell_type": "markdown",
   "id": "0aab35b7",
   "metadata": {},
   "source": [
    "<div style=\"background-color:#e6ffe6; padding:10px; border-style:\n",
    "solid;; border-color:#00e600; border-width:1px\">\n",
    "    \n",
    "* Plot a \"Payne curve\" for the simplified Ca atom using a temperature range of 100 - 175,000 K. Start with $P_e$ = 100 Pa and study how $P_e$ affects the diagram. What is going on?\n",
    "</div>"
   ]
  },
  {
   "cell_type": "markdown",
   "id": "ef7e02a3",
   "metadata": {},
   "source": [
    "Answer here"
   ]
  },
  {
   "cell_type": "markdown",
   "id": "b200baf3",
   "metadata": {},
   "source": [
    "<div style=\"background-color:#e6ffe6; padding:10px; border-style:\n",
    "solid;; border-color:#00e600; border-width:1px\">\n",
    "    \n",
    "* Make a separate figure with a Payne curve for an element of your choice. You can choose one of the existing model atoms, or you can use the [NIST atomic spectra database](https://physics.nist.gov/PhysRefData/ASD/levels_form.html) to build a model for any atom you'd like. How does it compare with Ca?\n",
    "</div>"
   ]
  },
  {
   "cell_type": "markdown",
   "id": "9b7bcc4a",
   "metadata": {},
   "source": [
    "Answer here"
   ]
  },
  {
   "cell_type": "markdown",
   "id": "6d83a915",
   "metadata": {},
   "source": [
    "### Exercise 3: Solar Ca$^+$K versus H$\\alpha$\n",
    "\n",
    "<div style=\"background-color:#e6ffe6; padding:10px; border-style:\n",
    "solid;; border-color:#00e600; border-width:1px\">\n",
    "    \n",
    "* Explain qualitatively why the solar Ca$^+$ K line is much stronger than the solar H$\\alpha$ line, even though hydrogen is not ionised in the solar photosphere and low chromosphere ($T \\approx$ 4000 - 6000 K) where these lines are formed, and calcium is far less abundant than hydrogen in the Sun: the Ca/H abundance ratio is only $N_\\mathrm{Ca}/N_\\mathrm{H} = 2 \\times 10^{−6}$. Assume again that the observed line strength scales with the lower-level population density (which it does, although nonlinearly through a \"curve of growth\" as you will see in Project 2).\n",
    "</div>"
   ]
  },
  {
   "cell_type": "markdown",
   "id": "57cb1bd3",
   "metadata": {},
   "source": [
    "Even though calcium is far less abundant than hydrogen in the Sun, the strength of each line only starts to dominate for certain temperatures. The H$\\alpha$ line increases significantly for temperatures higher than $6000$ K. But since the solar photosphere and low chromosphere has temperatures of $T \\approx 4000 - 6000$ K, the H$\\alpha$ line is much smaller. For inner parts of the of the Sun, where temperature is much higher, H$\\alpha$ line would be much more dominant."
   ]
  },
  {
   "cell_type": "markdown",
   "id": "af3b4559",
   "metadata": {},
   "source": [
    "<div style=\"background-color:#e6ffe6; padding:10px; border-style:\n",
    "solid;; border-color:#00e600; border-width:1px\">\n",
    "    \n",
    "* Prove your explanation by computing and plotting the expected strength ratio of these two lines as function of temperature for $P_e = 10^2$ dyne cm$^{-2}$. Make use of `H_atom.txt` and `Ca_atom.txt`.\n",
    "</div>"
   ]
  },
  {
   "cell_type": "markdown",
   "id": "087fd11e",
   "metadata": {},
   "source": [
    "For this exercise we find the populations or strength of the Ca$^{+}$ K line and H$\\alpha$ line. This is the same as the population density $n_{r,s}$ from boltzmann law\n",
    "\n",
    "$$\n",
    "\\frac{n_{r,s}}{N_r} = \\frac{g_{r,s}}{U_r}e^{-\\chi_{r,s}/kT}\n",
    "\\tag{7}\\label{boltzmann3}\n",
    "$$\n",
    "\n",
    "By multiplying the above expression with the total population $N_{r}$ from Saha's law\n",
    "\n",
    "$$\n",
    "\\frac{N_{r+1}}{N_{r}} = \\frac{1}{N_e}\\frac{2U_{r+1}}{U_{r}}\\left(\\frac{2\\pi m_e k T}{h^2}\\right)^{3/2}e^{-\\chi_{r}/kT}\n",
    "\\tag{8}\\label{saha2}\n",
    "$$\n",
    "we get $n_{r,s}$ for both Ca$^{+}$ K line and H$\\alpha$ line.\n",
    "\n",
    "Ca$^{+}$ K line corresponds to ionisation level $r = 1$ with the energy level transition from $s = 2 \\rightarrow s = 1$, and the H$\\alpha$ line is non-ionised with transition from $s = 3 \\rightarrow s = 2$. The strength ratio is then found by dividing the population density $n_{r,s}$ by eachother.\n",
    "\n",
    "The ratio is plotted over temperatures from $1000$ K to $20 000$ K with electron density $P_{e} = 10^2$ dyne/cm$^{2}$."
   ]
  },
  {
   "cell_type": "code",
   "execution_count": 318,
   "id": "79a12d70",
   "metadata": {},
   "outputs": [
    {
     "data": {
      "image/png": "[encoded data removed]",
      "text/plain": [
       "<Figure size 504x387.692 with 1 Axes>"
      ]
     },
     "metadata": {},
     "output_type": "display_data"
    }
   ],
   "source": [
    "T = numpy.linspace(1000,20000,100)*units.K\n",
    "Pe = 100 *units.dyne/units.cm**2\n",
    "Pe = Pe.to('Pa')\n",
    "\n",
    "H = Atom('H_atom.txt')\n",
    "H.read_atom('H_atom.txt')\n",
    "\n",
    "Ca = Atom('Ca_atom.txt')\n",
    "Ca.read_atom('Ca_atom.txt')\n",
    "\n",
    "H_ratio = numpy.zeros(len(T))\n",
    "Ca_ratio = numpy.zeros(len(T))\n",
    "for i in range(len(T)):\n",
    "    H_ratio[i] = H.compute_populations(T[i],Pe)[0,1]\n",
    "    Ca_ratio[i] = Ca.compute_populations(T[i],Pe)[1,0]\n",
    "\n",
    "\n",
    "plt.plot(T,(Ca_ratio/H_ratio)*2*10**(-6), label = r'Strength ratio $n_{Ca^{+} K}/n_{H\\alpha}$ line')\n",
    "plt.yscale('log')\n",
    "plt.xlabel('Temperature T (K)')\n",
    "plt.ylabel(r'Strength ratio $n_{Ca^{+} K}/n_{H\\alpha}$')\n",
    "plt.legend()\n",
    "plt.show()\n",
    "\n"
   ]
  },
  {
   "cell_type": "markdown",
   "id": "61941372",
   "metadata": {},
   "source": [
    "As we can see that the Ca$^{+}$ K line is much bigger than the H$\\alpha$ line in the range ($T \\approx 4000 - 6000$ K). However, for higher temperatures we see that the H$\\alpha$ line eventually starts to dominate. This is due to the fact that the strength of H$\\alpha$ line is dependent on temperature, and becomes stronger for higher temperatures."
   ]
  },
  {
   "cell_type": "markdown",
   "id": "2d0e7978",
   "metadata": {},
   "source": [
    "<div style=\"background-color:#e6ffe6; padding:10px; border-style:\n",
    "solid;; border-color:#00e600; border-width:1px\">\n",
    "    \n",
    "* The relative population change $(\\Delta n / \\Delta T) / n$ is useful to to diagnose the temperature sensitivity of the populations of a given atomic stage. Plot in a log scale the relative population changes for the lower levels of Ca$^+$K and H$\\alpha$ vs. temperature, using  $\\Delta T=$ 1 K. Around $T=$ 5600 K the Ca$^+$K curve dips down to very  small values; the H$\\alpha$ curve does that around $T=$ 9500  K. Thus, at $T \\approx$ 5600 K the temperature sensitivity of Ca$^+$K is much smaller than the temperature sensitivity of H$\\alpha$. Compare these plots with plots of the populations of the lower levels for the two lines (normalise them to the maximum value of each for easier comparison). You should find that the population plots have a peak and two flanks. Explain each flank of the population plots and the dips in the temperature sensitivity plots.\n",
    "</div> "
   ]
  },
  {
   "cell_type": "markdown",
   "id": "de1d251e",
   "metadata": {},
   "source": [
    "We calculate the population density $n_{r,s}$ for H$\\alpha$ and Ca$^{+}$ K lines, for temperatures from $800$ to $14000$ K with stepsize dT$ = 1$ K. Then for each temperature change ($T + $dT) we find the difference $\\Delta$n for both lines and calculate the relative population ($\\Delta n/\\Delta T)/n$. We use $P_{e} = 10^2$ dyne/cm$^{2}$ as our electron pressure."
   ]
  },
  {
   "cell_type": "code",
   "execution_count": 333,
   "id": "e92f08b2",
   "metadata": {},
   "outputs": [
    {
     "data": {
      "text/plain": [
       "<matplotlib.legend.Legend at 0x7ffcf97d06a0>"
      ]
     },
     "execution_count": 333,
     "metadata": {},
     "output_type": "execute_result"
    },
    {
     "data": {
      "image/png": "[encoded data removed]",
      "text/plain": [
       "<Figure size 504x387.692 with 1 Axes>"
      ]
     },
     "metadata": {},
     "output_type": "display_data"
    }
   ],
   "source": [
    "T0 = 800\n",
    "N = 14000\n",
    "dT = 1\n",
    "temp = []; [temp.append(T0 + i*dT) for i in range(N)]\n",
    "temp = numpy.array(temp)*units.K\n",
    "Pe = 100 *units.dyne/units.cm**2\n",
    "Pe = Pe.to('Pa')\n",
    "dT = dT*units.K\n",
    "\n",
    "\n",
    "\n",
    "n_H = H.compute_populations(temp,Pe)[0,1]\n",
    "n_Ca = Ca.compute_populations(temp,Pe)[1,0]\n",
    "\"\"\"\n",
    "plt.plot(n_H)\n",
    "plt.plot(n_Ca)\n",
    "plt.yscale('log')\n",
    "plt.show()\n",
    "\"\"\"\n",
    "\n",
    "\n",
    "H_ = ((abs(np.roll(n_H, -1) - n_H))/(dT*n_H))[:-1]\n",
    "Ca_ = ((abs(np.roll(n_Ca, -1) - n_Ca))/(dT*n_Ca))[:-1]\n",
    "temp = temp[:-1]\n",
    "\n",
    "\n",
    "Ca_crit_I = 5600 - T0\n",
    "H_crit_I = 9500 - T0\n",
    "\n",
    "\n",
    "plt.plot(temp, H_, label= r'($\\Delta n/\\Delta T)/n$ for H$\\alpha$')\n",
    "plt.plot(temp, Ca_, label= r'($\\Delta n/\\Delta T)/n$ for Ca$^{+}$ K')\n",
    "plt.plot(5600*units.K,Ca_[Ca_crit_I], 'o', label = 'T = 5600 K')\n",
    "plt.plot(9500*units.K,H_[H_crit_I], 'o', label = 'T = 9500 K')\n",
    "plt.yscale('log')\n",
    "plt.xlabel('Temperature T (K)')\n",
    "plt.ylabel('abs(d$n_{r,s})/n_{r,s}/dT$')\n",
    "plt.grid()\n",
    "plt.legend()\n",
    "\n",
    "\n"
   ]
  },
  {
   "cell_type": "markdown",
   "id": "7e42decd",
   "metadata": {},
   "source": [
    "From the plot we can see that the H$\\alpha$ curve dips very close to $T = 9500$ K, which is expected, while the Ca$^{+}$ K curve dips some time before we approach $5600$ K. The reason for this can either be that we should use a different electron pressure, or it may be a numerical error."
   ]
  },
  {
   "cell_type": "markdown",
   "id": "263ab50f",
   "metadata": {},
   "source": [
    "<div style=\"background-color:#e6ffe6; padding:10px; border-style:\n",
    "solid;; border-color:#00e600; border-width:1px\">\n",
    "    \n",
    "* Find at which temperature the hydrogen in stellar photospheres with $P_e =$ 10 Pa is about 50% ionised. Plot the neutral and ionised fractions of hydrogen as a function of temperature.\n",
    "</div>"
   ]
  },
  {
   "cell_type": "markdown",
   "id": "244f6f09",
   "metadata": {},
   "source": [
    "Answer here"
   ]
  },
  {
   "cell_type": "code",
   "execution_count": 253,
   "id": "7674c516",
   "metadata": {},
   "outputs": [
    {
     "name": "stdout",
     "output_type": "stream",
     "text": [
      "[[1.00000000e+00 1.00000000e+00 1.00000000e+00 ... 9.99965494e-01\n",
      "  9.99965161e-01 9.99964824e-01]\n",
      " [2.48313463e-11 2.53579636e-11 2.58952220e-11 ... 3.45058122e-05\n",
      "  3.48393102e-05 3.51758154e-05]]\n",
      "0\n"
     ]
    }
   ],
   "source": [
    "temp = np.linspace(4000,6000,1000)*units.K\n",
    "Pe = 10*units.Pa\n",
    "\n",
    "\n",
    "n_ion_H = H.compute_ionisation(temp,Pe)\n",
    "print(n_ion_H)\n",
    "I = numpy.where(numpy.abs(n_ion_H - 0.5) < 10**(-1))\n",
    "print(np.sum(I))\n"
   ]
  },
  {
   "cell_type": "code",
   "execution_count": null,
   "id": "cfa5703b",
   "metadata": {},
   "outputs": [],
   "source": []
  }
 ],
 "metadata": {
  "kernelspec": {
   "display_name": "Python 3",
   "language": "python",
   "name": "python3"
  },
  "language_info": {
   "codemirror_mode": {
    "name": "ipython",
    "version": 3
   },
   "file_extension": ".py",
   "mimetype": "text/x-python",
   "name": "python",
   "nbconvert_exporter": "python",
   "pygments_lexer": "ipython3",
   "version": "3.8.8"
  }
 },
 "nbformat": 4,
 "nbformat_minor": 5
}
